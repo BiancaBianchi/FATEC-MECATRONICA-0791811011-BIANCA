{
  "nbformat": 4,
  "nbformat_minor": 0,
  "metadata": {
    "colab": {
      "name": "Sistema de Vendas com SQLITE3.ipynb",
      "provenance": [],
      "authorship_tag": "ABX9TyNaTy/VzaHXFqHollxiCbqT",
      "include_colab_link": true
    },
    "kernelspec": {
      "name": "python3",
      "display_name": "Python 3"
    }
  },
  "cells": [
    {
      "cell_type": "markdown",
      "metadata": {
        "id": "view-in-github",
        "colab_type": "text"
      },
      "source": [
        "<a href=\"https://colab.research.google.com/github/BiancaBianchi/FATEC-MECATRONICA-0791811011-BIANCA/blob/master/Sistema_de_Vendas_com_SQLITE3.ipynb\" target=\"_parent\"><img src=\"https://colab.research.google.com/assets/colab-badge.svg\" alt=\"Open In Colab\"/></a>"
      ]
    },
    {
      "cell_type": "code",
      "metadata": {
        "id": "mI_UIkfVZv4Z"
      },
      "source": [
        "#Define as classes do nosso programa\n",
        "class Usuario():\n",
        "  #Construtor\n",
        "  def __init__(self, nick, senha, email, tipo):\n",
        "    self.nick = nick\n",
        "    self.senha = senha\n",
        "    self.email = email\n",
        "    self.tipo = tipo\n",
        "  "
      ],
      "execution_count": null,
      "outputs": []
    },
    {
      "cell_type": "code",
      "metadata": {
        "id": "RdlkBV1oblyx"
      },
      "source": [
        "class Jogo():\n",
        "  #Construtor\n",
        "  def __init__(self, id, nome, plataforma, genero, quantidade, custo, valor_de_venda):\n",
        "    self.id = id\n",
        "    self.nome = nome\n",
        "    self.plataforma = plataforma\n",
        "    self.genero = genero\n",
        "    self.quantidade = quantidade\n",
        "    self.custo = custo\n",
        "    self.valor_de_venda = valor_de_venda"
      ],
      "execution_count": null,
      "outputs": []
    },
    {
      "cell_type": "code",
      "metadata": {
        "id": "WNxZRZAYbo4D"
      },
      "source": [
        "class Venda():\n",
        "  #Construtor\n",
        "  def __init__(self, id, nick, id_jogo, quantidade):\n",
        "    self.id = id\n",
        "    self.nick = nick\n",
        "    self.id_jogo = id_jogo\n",
        "    self.quantidade = quantidade"
      ],
      "execution_count": null,
      "outputs": []
    },
    {
      "cell_type": "code",
      "metadata": {
        "id": "KYY4uTC_bvYH"
      },
      "source": [
        "#DAO - Data Acess Object - Serve para ligar bancos de dados com código\n",
        "class UsuarioDAO():\n",
        "  def buscarUsuario(nick, senha):\n",
        "    #Conecta no banco\n",
        "    conn = sqlite3.connect('rato_que_ri.db')\n",
        "    #Acesso ao banco por um cursor\n",
        "    cursor = conn.cursor()\n",
        "    #Prepara a string de busca\n",
        "    cursor.execute(''' SELECT * FROM Usuarios WHERE nick=? AND senha=? ''', (nick,senha))\n",
        "    usuario = None\n",
        "    for linha in cursor.fetchall():\n",
        "      usuario = Usuario(linha[0], linha[1], linha[2], linha[3])\n",
        "    conn.close()\n",
        "    return usuario"
      ],
      "execution_count": null,
      "outputs": []
    },
    {
      "cell_type": "code",
      "metadata": {
        "id": "cDw8z6tKbyPV"
      },
      "source": [
        "class JogosDAO():\n",
        "  def buscarTodosOsJogos():\n",
        "    conn = sqlite3.connect('rato_que_ri.db')\n",
        "    cursor = conn.cursor()\n",
        "    cursor.execute('''SELECT * FROM Jogos''')\n",
        "    jogos = []\n",
        "    for linha in cursor.fetchall():\n",
        "      jogos.append(Jogo(linha[0], linha[1], linha[2], linha[3], linha[4], linha[5], linha[6]))\n",
        "    conn.close()\n",
        "    return jogos\n",
        "  def cadastrarJogo(jogo):\n",
        "    conn = sqlite3.connect('rato_que_ri.db')\n",
        "    cursor = conn.cursor()\n",
        "    cursor.execute('''INSERT INTO Jogos VALUES (?,?,?,?,?,?,?);''',(jogo.id, jogo.nome, \\\n",
        "                                                                    jogo.plataforma, jogo.genero, jogo.quantidade,\\\n",
        "                                                                    jogo.custo, jogo.valor_de_venda))\n",
        "    conn.commit()\n",
        "    conn.close()\n",
        "  def buscarPorPlataforma(plataforma):\n",
        "    conn = sqlite3.connect('rato_que_ri.db')\n",
        "    cursor = conn.cursor()\n",
        "    print(plataforma)\n",
        "    cursor.execute(''' SELECT * FROM Jogos WHERE plataforma like \"{}\";'''.format(plataforma))\n",
        "    jogos = []\n",
        "    for linha in cursor.fetchall():\n",
        "      jogos.append(Jogo(linha[0], linha[1], linha[2], linha[3], linha[4], linha[5], linha[6]))\n",
        "    conn.close()\n",
        "    return jogos"
      ],
      "execution_count": null,
      "outputs": []
    },
    {
      "cell_type": "code",
      "metadata": {
        "id": "YfzQT6-Zb5ty",
        "outputId": "2125f894-1893-4793-d165-64ee2509ae0c",
        "colab": {
          "base_uri": "https://localhost:8080/",
          "height": 714
        }
      },
      "source": [
        "#Sistema rodando\n",
        "import sqlite3\n",
        "\n",
        "def menu(usuario):\n",
        "  print('1 - Mostrar todos os jogos')\n",
        "  if usuario.tipo == 'dono':\n",
        "    print('2 - Cadastrar novo jogo')\n",
        "    print('3 - Buscar por Plataforma ')\n",
        "  print('0 - Sair')\n",
        "\n",
        "\n",
        "def cadastrarJogo():\n",
        "  id = int(input('Id do Jogo:'))\n",
        "  nome = input('Nome do Jogo:')\n",
        "  plataforma = input('Plataforma:')\n",
        "  genero = input('Genero:')\n",
        "  quantidade = int(input(\"Quantidade:\"))\n",
        "  custo = float(input(\"Custo:\"))\n",
        "  valor_de_venda = float(input(\"Valor de venda:\"))\n",
        "  JogosDAO.cadastrarJogo( Jogo(id, nome, plataforma, genero, quantidade, custo, valor_de_venda) )\n",
        "\n",
        "def mostrarListaDeJogos():\n",
        "  print('Lista de Jogos:')\n",
        "  print('ID\\tNome\\tPlataforma\\tQuantidade\\tValor')\n",
        "  for jogo in JogosDAO.buscarTodosOsJogos():\n",
        "    print(\"{}\\t{}\\t{}\\t{}\\t{}\".format(jogo.id,jogo.nome, jogo.plataforma, jogo.quantidade, jogo.valor_de_venda))\n",
        "\n",
        "def buscarPorPlataforma():\n",
        "  plataforma = input(\"Plataforma do jogo:\")\n",
        "  for jogo in JogosDAO.buscarPorPlataforma(plataforma):\n",
        "    print(\"{}\\t{}\\t{}\\t{}\\t{}\".format(jogo.id,jogo.nome, jogo.plataforma, jogo.quantidade, jogo.valor_de_venda))\n",
        "  \n",
        "#Usuario atual\n",
        "usuario = None\n",
        "\n",
        "#Loop infinito\n",
        "continuar = True\n",
        "\n",
        "while continuar:\n",
        "  if usuario == None:\n",
        "    print('Nenhum Usuario Logado')\n",
        "    nick = input('Informe seu nick:')\n",
        "    senha = input('Informe sua senha:')\n",
        "    usuario = UsuarioDAO.buscarUsuario(nick, senha)\n",
        "  else:\n",
        "    print('Sistema Rato que Ri:')\n",
        "    print('Usuario Logado:', usuario.nick)\n",
        "    menu(usuario)\n",
        "    opcao = input('Opcao Desejada:')\n",
        "    if opcao == '1':\n",
        "      mostrarListaDeJogos()\n",
        "    elif opcao == '0':\n",
        "      break\n",
        "    elif opcao == '2':\n",
        "      cadastrarJogo()\n",
        "    elif opcao == '3':\n",
        "      buscarPorPlataforma()"
      ],
      "execution_count": null,
      "outputs": [
        {
          "output_type": "stream",
          "text": [
            "Nenhum Usuario Logado\n",
            "Informe seu nick:dono\n",
            "Informe sua senha:dono\n",
            "Sistema Rato que Ri:\n",
            "Usuario Logado: dono\n",
            "1 - Mostrar todos os jogos\n",
            "2 - Cadastrar novo jogo\n",
            "3 - Buscar por Plataforma \n",
            "0 - Sair\n",
            "Opcao Desejada:3\n",
            "Plataforma do jogo:Xbox\n",
            "Xbox\n",
            "Sistema Rato que Ri:\n",
            "Usuario Logado: dono\n",
            "1 - Mostrar todos os jogos\n",
            "2 - Cadastrar novo jogo\n",
            "3 - Buscar por Plataforma \n",
            "0 - Sair\n",
            "Opcao Desejada:3\n",
            "Plataforma do jogo:PS4\n",
            "PS4\n",
            "1001\tPES 2020\tPS4\t10\t250.0\n",
            "1002\tGod of War 4\tPS4\t5\t250.0\n",
            "Sistema Rato que Ri:\n",
            "Usuario Logado: dono\n",
            "1 - Mostrar todos os jogos\n",
            "2 - Cadastrar novo jogo\n",
            "3 - Buscar por Plataforma \n",
            "0 - Sair\n",
            "Opcao Desejada:3\n",
            "Plataforma do jogo:PC\n",
            "PC\n",
            "1003\tFallGuys\tPC\t5\t37.0\n",
            "1005\tCS:Go\tPC\t5\t20.0\n",
            "Sistema Rato que Ri:\n",
            "Usuario Logado: dono\n",
            "1 - Mostrar todos os jogos\n",
            "2 - Cadastrar novo jogo\n",
            "3 - Buscar por Plataforma \n",
            "0 - Sair\n",
            "Opcao Desejada:0\n"
          ],
          "name": "stdout"
        }
      ]
    }
  ]
}
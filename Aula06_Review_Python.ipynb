{
  "nbformat": 4,
  "nbformat_minor": 0,
  "metadata": {
    "colab": {
      "name": "Aula06-Review Python.ipynb",
      "provenance": [],
      "authorship_tag": "ABX9TyO5MiJ+naBv1aUxQMEzeFTa",
      "include_colab_link": true
    },
    "kernelspec": {
      "name": "python3",
      "display_name": "Python 3"
    }
  },
  "cells": [
    {
      "cell_type": "markdown",
      "metadata": {
        "id": "view-in-github",
        "colab_type": "text"
      },
      "source": [
        "<a href=\"https://colab.research.google.com/github/BiancaBianchi/FATEC-MECATRONICA-0791811011-BIANCA/blob/master/Aula06_Review_Python.ipynb\" target=\"_parent\"><img src=\"https://colab.research.google.com/assets/colab-badge.svg\" alt=\"Open In Colab\"/></a>"
      ]
    },
    {
      "cell_type": "markdown",
      "metadata": {
        "id": "kJi43b7L8reO",
        "colab_type": "text"
      },
      "source": [
        "#Primeiro código em Python da matéria\n",
        "#Objetivos\n",
        "\n",
        "* Sintaxe do Pyhton\n",
        "* Documentação da linguagem\n",
        "* Criar classes com o Python\n",
        "\n",
        "Células de texto no Colab, feitas utilizando o Markdown."
      ]
    },
    {
      "cell_type": "code",
      "metadata": {
        "id": "HKZr24dq-pH8",
        "colab_type": "code",
        "colab": {
          "base_uri": "https://localhost:8080/",
          "height": 68
        },
        "outputId": "0f009885-dfd7-478a-b59a-9d51ab5190ab"
      },
      "source": [
        "#Comentario de uma linha\n",
        "print(\"Olá mundo\\n\")\n",
        "print(\"Comecamos novamente!\")"
      ],
      "execution_count": 1,
      "outputs": [
        {
          "output_type": "stream",
          "text": [
            "Olá mundo\n",
            "\n",
            "Comecamos novamente!\n"
          ],
          "name": "stdout"
        }
      ]
    },
    {
      "cell_type": "code",
      "metadata": {
        "id": "rV9OJa9AAGTW",
        "colab_type": "code",
        "colab": {}
      },
      "source": [
        "#criar variavel nome e atribuir \"Bianca\" a ela\n",
        "nome = \"Bianca\"\n",
        "#Tipo das variaveis pode ser ajustado dinamicamente\n",
        "nome = 42\n",
        "#Tipo da variavel\n",
        "print(type(nome))\n"
      ],
      "execution_count": null,
      "outputs": []
    },
    {
      "cell_type": "code",
      "metadata": {
        "id": "DongZK4RAnem",
        "colab_type": "code",
        "colab": {
          "base_uri": "https://localhost:8080/",
          "height": 51
        },
        "outputId": "25fc2a09-add6-4984-ab92-18e916fc7672"
      },
      "source": [
        "#Para realizar interação com o usuário\n",
        "nome = input(\"informe seu nome\\n\")\n",
        "print(\"Ola\",nome)"
      ],
      "execution_count": 2,
      "outputs": [
        {
          "output_type": "stream",
          "text": [
            "informe seu nomebia\n",
            "Ola bia\n"
          ],
          "name": "stdout"
        }
      ]
    },
    {
      "cell_type": "code",
      "metadata": {
        "id": "LeWTWpAmBLJs",
        "colab_type": "code",
        "colab": {
          "base_uri": "https://localhost:8080/",
          "height": 68
        },
        "outputId": "54cc479d-bc26-4763-86fc-98a54b17c0bd"
      },
      "source": [
        "#A funcao input sempre retorna str\n",
        "numero1 = int(input(\"informe um valor\"))\n",
        "numero2 = int(input(\"informe outro valor\"))\n",
        "resultado = numero1 + numero2\n",
        "print(resultado)\n"
      ],
      "execution_count": 3,
      "outputs": [
        {
          "output_type": "stream",
          "text": [
            "informe um valor5\n",
            "informe outro valor13\n",
            "18\n"
          ],
          "name": "stdout"
        }
      ]
    },
    {
      "cell_type": "code",
      "metadata": {
        "id": "RhV7-3WEB6xd",
        "colab_type": "code",
        "colab": {
          "base_uri": "https://localhost:8080/",
          "height": 51
        },
        "outputId": "33436e29-5025-403d-945b-a1e5a3aad3cb"
      },
      "source": [
        "#composicao de string\n",
        "dia = 18\n",
        "nome = \"Bianca\"\n",
        "#precisa saber qual formatacao usar\n",
        "str1 = \"Ola %s tudo bem com voce? Hoje e dia %i do mes %i do ano %i\" % (\"Bia\", 18, 9, 2020)\n",
        "print(str1)\n",
        "#para quando o usuario nao precisar saber os tipos\n",
        "str2 = \"Logo, {}, hoje é {}\".format(nome, dia)\n",
        "print(str2)"
      ],
      "execution_count": 6,
      "outputs": [
        {
          "output_type": "stream",
          "text": [
            "Ola Bia tudo bem com voce? Hoje e dia 18 do mes 9 do ano 2020\n",
            "Logo, 18, hoje é Bianca\n"
          ],
          "name": "stdout"
        }
      ]
    },
    {
      "cell_type": "code",
      "metadata": {
        "id": "C3bQz9BnDSj2",
        "colab_type": "code",
        "colab": {
          "base_uri": "https://localhost:8080/",
          "height": 34
        },
        "outputId": "8c0c8c8e-3727-458f-b8e3-53e296486655"
      },
      "source": [
        "#controla o fluxo de execucao do codigo\n",
        "#estrutura de decisao\n",
        "#estrutura de repeticao\n",
        "numero = 42\n",
        "#verifica a paridade do numero\n",
        "if numero %2 == 0:\n",
        "  print(\"é par\")\n",
        "else:\n",
        "  print(\"e impar\")\n"
      ],
      "execution_count": 7,
      "outputs": [
        {
          "output_type": "stream",
          "text": [
            "é par\n"
          ],
          "name": "stdout"
        }
      ]
    },
    {
      "cell_type": "code",
      "metadata": {
        "id": "8XjgGlTpD5K2",
        "colab_type": "code",
        "colab": {
          "base_uri": "https://localhost:8080/",
          "height": 68
        },
        "outputId": "11d7cc64-0221-4b2a-e9c7-62ae56ba8f95"
      },
      "source": [
        "#Calculadora de parcela\n",
        "#1x - 10%\n",
        "#2x - 0%\n",
        "#3x + 5%\n",
        "#4x ou 5 +15%\n",
        "\n",
        "valor = int(input(\"digite o valor total da compra\"))\n",
        "qtdparcelas = int(input(\"em quantas parcelas?\"))\n",
        "\n",
        "if qtdparcelas == 1:\n",
        "  valor = valor - (0.1 * valor)\n",
        "elif qtdparcelas == 2:\n",
        "  valor = valor/2\n",
        "elif qtdparcelas == 3:\n",
        "  valor = valor + (0.05* valor)\n",
        "  valor = valor/3\n",
        "else: \n",
        "  valor = valor + (0.15 *valor)\n",
        "  valor = valor/qtdparcelas\n",
        "\n",
        "print(\"o valor da parcela é: \", valor)"
      ],
      "execution_count": 15,
      "outputs": [
        {
          "output_type": "stream",
          "text": [
            "digite o valor total da compra1200\n",
            "em quantas parcelas?3\n",
            "o valor da parcela é:  420.0\n"
          ],
          "name": "stdout"
        }
      ]
    },
    {
      "cell_type": "code",
      "metadata": {
        "id": "JDEeA9EYGL1y",
        "colab_type": "code",
        "colab": {
          "base_uri": "https://localhost:8080/",
          "height": 68
        },
        "outputId": "feaf719e-89aa-4793-932f-9d349b8856c7"
      },
      "source": [
        "#Refatorar - realizar modificacao para melhorar o codigo\n",
        "#Calculadora de parcela\n",
        "#1x - 10%\n",
        "#2x - 0%\n",
        "#3x + 5%\n",
        "#4x ou 5 +15%\n",
        "\n",
        "valor = float(input(\"digite o valor total da compra\"))\n",
        "qtdparcelas = int(input(\"em quantas parcelas?\"))\n",
        "\n",
        "if qtdparcelas == 1:\n",
        "  modf = 0.9\n",
        "elif qtdparcelas == 2:\n",
        "  modf = 1\n",
        "elif qtdparcelas == 3:\n",
        "  modf = 1.05\n",
        "else: \n",
        "  modf = 1.15\n",
        "parcela = (valor*modf)/qtdparcelas\n",
        "print(\"o valor da parcela é: \", parcela)"
      ],
      "execution_count": 16,
      "outputs": [
        {
          "output_type": "stream",
          "text": [
            "digite o valor total da compra1200\n",
            "em quantas parcelas?2\n",
            "o valor da parcela é:  600.0\n"
          ],
          "name": "stdout"
        }
      ]
    },
    {
      "cell_type": "code",
      "metadata": {
        "id": "1sRGJA7fG_gx",
        "colab_type": "code",
        "colab": {}
      },
      "source": [
        "#Repetir ate que a condicao seja verdadeira\n",
        "continuar = True\n",
        "while continuar:\n",
        "  #Refatorar - realizar modificacao para melhorar o codigo\n",
        "  #Calculadora de parcela\n",
        "  #1x - 10%\n",
        "  #2x - 0%\n",
        "  #3x + 5%\n",
        "  #4x ou 5 +15%\n",
        "\n",
        "  valor = float(input(\"digite o valor total da compra\"))\n",
        "  qtdparcelas = int(input(\"em quantas parcelas?\"))\n",
        "\n",
        "  if qtdparcelas == 1:\n",
        "    modf = 0.9\n",
        "  elif qtdparcelas == 2:\n",
        "   modf = 1\n",
        "  elif qtdparcelas == 3:\n",
        "   modf = 1.05\n",
        "  else: \n",
        "    modf = 1.15\n",
        "  parcela = (valor*modf)/qtdparcelas\n",
        "  print(\"o valor da parcela é: \", parcela)\n",
        "  continuar = input(\"deseja continuar(s/n)?\") == 's'"
      ],
      "execution_count": null,
      "outputs": []
    },
    {
      "cell_type": "code",
      "metadata": {
        "id": "P_2vYhhDH6I5",
        "colab_type": "code",
        "colab": {}
      },
      "source": [
        "#Refatorar\n",
        "# Criar funcao para determinar o valor da parcela\n",
        "\n",
        "def calc_parcela(valor, qtdparcelas):\n",
        "  if qtdparcelas == 1:\n",
        "    modf = 0.9\n",
        "  elif qtdparcelas == 2:\n",
        "   modf = 1\n",
        "  elif qtdparcelas == 3:\n",
        "   modf = 1.05\n",
        "  else: \n",
        "    modf = 1.15\n",
        "  return (valor*modf)/qtdparcelas\n",
        "\n",
        "continuar = True\n",
        "while continuar:\n",
        "  valor = float(input(\"digite o valor total da compra\"))\n",
        "  qtdparcelas = int(input(\"em quantas parcelas?\"))\n",
        "  parcela = calc_parcela(valor, qtdparcelas)\n",
        "  print(\"o valor da parcela é: \", parcela)\n",
        "  continuar = input(\"deseja continuar(s/n)?\") == 's'"
      ],
      "execution_count": null,
      "outputs": []
    },
    {
      "cell_type": "code",
      "metadata": {
        "id": "mFx67GEgJMts",
        "colab_type": "code",
        "colab": {
          "base_uri": "https://localhost:8080/",
          "height": 306
        },
        "outputId": "30b91a16-12e4-4662-ee19-8d7fd5534dfd"
      },
      "source": [
        "import random\n",
        "#listas - armazenam diversos valores de forma sequencial\n",
        "#criar lista vazia\n",
        "temps = []\n",
        "\n",
        "qtd= int(input(\"informe a quantidade de temperaturas:\"))\n",
        "\n",
        "#enquanto a qtd de temp nao foi alcancada, continuar lendo valores\n",
        "while len(temps) < qtd:\n",
        "  #adiciona um novo valor na lista\n",
        "  temps.append(random.randint(-10, 95))\n",
        "\n",
        "print(temps)\n",
        "print(\"maior valor:\", max(temps))\n",
        "print(\"menor valor:\", min(temps))\n",
        "print(\"valor médio:\", sum(temps)/len(temps))\n",
        "\n",
        "#uso da estrutura for\n",
        "for i in temps:\n",
        "  print(\"temperatura atual\", i)\n",
        "  if i > sum(temps)/len(temps):\n",
        "    print(\"maior que a media\")\n",
        "  elif i < sum(temps)/len(temps):\n",
        "    print(\"menor que a media\")\n",
        "  else:\n",
        "    print(\"igual a media\")"
      ],
      "execution_count": 19,
      "outputs": [
        {
          "output_type": "stream",
          "text": [
            "informe a quantidade de temperaturas:6\n",
            "[2, 85, 58, 65, -3, 63]\n",
            "maior valor: 85\n",
            "menor valor: -3\n",
            "valor médio: 45.0\n",
            "temperatura atual 2\n",
            "menor que a media\n",
            "temperatura atual 85\n",
            "maior que a media\n",
            "temperatura atual 58\n",
            "maior que a media\n",
            "temperatura atual 65\n",
            "maior que a media\n",
            "temperatura atual -3\n",
            "menor que a media\n",
            "temperatura atual 63\n",
            "maior que a media\n"
          ],
          "name": "stdout"
        }
      ]
    },
    {
      "cell_type": "code",
      "metadata": {
        "id": "ixSCXYNmNJz8",
        "colab_type": "code",
        "colab": {
          "base_uri": "https://localhost:8080/",
          "height": 34
        },
        "outputId": "c1b51d2c-9aab-484c-a63e-fa76a81b50b6"
      },
      "source": [
        "#dicionario - chave valor\n",
        "personagem = {\"nome\":\"baymax\", \"hp\":200, \"atk\":30, \"def\":12, \"speed\":50}\n",
        "print(\"nome do personagem\", personagem[\"nome\"])\n"
      ],
      "execution_count": 20,
      "outputs": [
        {
          "output_type": "stream",
          "text": [
            "nome do personagem baymax\n"
          ],
          "name": "stdout"
        }
      ]
    },
    {
      "cell_type": "code",
      "metadata": {
        "id": "POjWs7LtUptw",
        "colab_type": "code",
        "colab": {}
      },
      "source": [
        "#Orientacao a objetos\n",
        "#metodos - comportamentos do objeto\n",
        "#atributos - caracteristicas\n",
        "#classe - conjunto de metodos e atributos para descrever uma representacao real\n",
        "#classe é abstrato\n",
        "\n",
        "class Pessoa():\n",
        "  def __init__(self, nome, cpf, email, alimentacao, profissao):\n",
        "    self.nome = nome\n",
        "    self.cpf = cpf\n",
        "    self.email = email\n",
        "    self.alimentacao = alimentacao\n",
        "    self.profissao = profissao\n",
        "\n",
        "  def falar(self): #self - manipular atributos dentro dela\n",
        "    print(\"oi\")\n",
        "  def apresentar(self):\n",
        "    print(\"Oi, meu nome é \", self.nome)\n",
        "  def dormir (self):\n",
        "    pass\n",
        "  def comer(self):\n",
        "    pass\n",
        "\n",
        "\n"
      ],
      "execution_count": 21,
      "outputs": []
    },
    {
      "cell_type": "code",
      "metadata": {
        "id": "wfXryHjoaXSc",
        "colab_type": "code",
        "colab": {
          "base_uri": "https://localhost:8080/",
          "height": 51
        },
        "outputId": "b3e1a3c3-ee3d-4adc-c62c-3f524054a1d5"
      },
      "source": [
        "p1 = Pessoa(\"Jorge\", \"012345678901\", \"jorjao@bol.com.br\", \"onivoro\", \"telemarketing\")\n",
        "p2 = Pessoa(\"Dalila\", \"09876543210\", \"lilalila@gmail.com\", \"vegana\", \"professora\")\n",
        "\n",
        "p1.falar()\n",
        "p2.falar()\n"
      ],
      "execution_count": 22,
      "outputs": [
        {
          "output_type": "stream",
          "text": [
            "oi\n",
            "oi\n"
          ],
          "name": "stdout"
        }
      ]
    },
    {
      "cell_type": "code",
      "metadata": {
        "id": "KPITba45dAgr",
        "colab_type": "code",
        "colab": {}
      },
      "source": [
        "#consumindo os dados de: pokeapi.co\n",
        "#chamada de api: https://pokeapi.co/api/v2/pokemon?limit=25\n",
        "class Pokemon():\n",
        "  #Construtor\n",
        "  def __init__(self, name, hp, attack, defense, special_attack, special_defense, speed, url):\n",
        "    self.name = name\n",
        "    self.hp = hp\n",
        "    self.attack = attack\n",
        "    self.defense = defense\n",
        "    self.special_attack = special_attack\n",
        "    self.special_defense = special_defense\n",
        "    self.speed = speed\n",
        "    self.url = url\n",
        "  def show_data(self):\n",
        "    print('name:{},hp: {} attack:{}, defense:{}, special_attack:{}, special_defense:{}, speed:{}, url:{}'.format( \\\n",
        "    self.name, self.hp, self.attack, self.defense, self.special_attack, self.special_defense, self.speed, self.url))"
      ],
      "execution_count": 48,
      "outputs": []
    },
    {
      "cell_type": "code",
      "metadata": {
        "id": "v33mRltjmEVA",
        "colab_type": "code",
        "colab": {
          "base_uri": "https://localhost:8080/",
          "height": 34
        },
        "outputId": "bf2412b6-20cf-469b-c20c-3f8ece4caa6b"
      },
      "source": [
        "p1 = Pokemon('Pikachu',40,1,2,3,4,5,'ola')\n",
        "p1.show_data()"
      ],
      "execution_count": 50,
      "outputs": [
        {
          "output_type": "stream",
          "text": [
            "name:Pikachu,hp: 40 attack:1, defense:2, special_attack:3, special_defense:4, speed:5, url:ola\n"
          ],
          "name": "stdout"
        }
      ]
    },
    {
      "cell_type": "code",
      "metadata": {
        "id": "Zj-UvIShfSNm",
        "colab_type": "code",
        "colab": {}
      },
      "source": [
        "#requisicao http para a api\n",
        "import requests\n",
        "base_api_url = 'https://pokeapi.co/api/v2/pokemon?limit=151'\n",
        "poke_agenda = []\n",
        "dados_brutos = requests.get(base_api_url)\n",
        "if dados_brutos.status_code >= 200 and dados_brutos.status_code < 300:\n",
        "  # print(dados_brutos.json()['results'])\n",
        "  for informacao in dados_brutos.json()['results']:\n",
        "    # print(informacao)\n",
        "    dados_brutos_pokemon = requests.get(informacao['url'])\n",
        "    if dados_brutos_pokemon.status_code >= 200 and dados_brutos_pokemon.status_code < 300:\n",
        "      # print(dados_brutos_pokemon.json())\n",
        "      pokemon_data = dados_brutos_pokemon.json()\n",
        "      pokemon = Pokemon(name= pokemon_data['name'],\n",
        "                        hp=pokemon_data['stats'][0]['base_stat'],\n",
        "                        attack=pokemon_data['stats'][1]['base_stat'],\n",
        "                        defense=pokemon_data['stats'][2]['base_stat'],\n",
        "                        special_attack=pokemon_data['stats'][3]['base_stat'],\n",
        "                        special_defense=pokemon_data['stats'][4]['base_stat'],\n",
        "                        speed=pokemon_data['stats'][5]['base_stat'],\n",
        "                        url=pokemon_data['sprites']['front_default'])\n",
        "      poke_agenda.append(pokemon)"
      ],
      "execution_count": 51,
      "outputs": []
    },
    {
      "cell_type": "code",
      "metadata": {
        "id": "hcs_bwjclLuC",
        "colab_type": "code",
        "colab": {
          "base_uri": "https://localhost:8080/",
          "height": 1000
        },
        "outputId": "df3eb824-a998-4400-bcb5-5e2ce86d9827"
      },
      "source": [
        "for pokemon in poke_agenda:\n",
        "  pokemon.show_data()"
      ],
      "execution_count": 52,
      "outputs": [
        {
          "output_type": "stream",
          "text": [
            "name:bulbasaur,hp: 45 attack:49, defense:49, special_attack:65, special_defense:65, speed:45, url:https://raw.githubusercontent.com/PokeAPI/sprites/master/sprites/pokemon/1.png\n",
            "name:ivysaur,hp: 60 attack:62, defense:63, special_attack:80, special_defense:80, speed:60, url:https://raw.githubusercontent.com/PokeAPI/sprites/master/sprites/pokemon/2.png\n",
            "name:venusaur,hp: 80 attack:82, defense:83, special_attack:100, special_defense:100, speed:80, url:https://raw.githubusercontent.com/PokeAPI/sprites/master/sprites/pokemon/3.png\n",
            "name:charmander,hp: 39 attack:52, defense:43, special_attack:60, special_defense:50, speed:65, url:https://raw.githubusercontent.com/PokeAPI/sprites/master/sprites/pokemon/4.png\n",
            "name:charmeleon,hp: 58 attack:64, defense:58, special_attack:80, special_defense:65, speed:80, url:https://raw.githubusercontent.com/PokeAPI/sprites/master/sprites/pokemon/5.png\n",
            "name:charizard,hp: 78 attack:84, defense:78, special_attack:109, special_defense:85, speed:100, url:https://raw.githubusercontent.com/PokeAPI/sprites/master/sprites/pokemon/6.png\n",
            "name:squirtle,hp: 44 attack:48, defense:65, special_attack:50, special_defense:64, speed:43, url:https://raw.githubusercontent.com/PokeAPI/sprites/master/sprites/pokemon/7.png\n",
            "name:wartortle,hp: 59 attack:63, defense:80, special_attack:65, special_defense:80, speed:58, url:https://raw.githubusercontent.com/PokeAPI/sprites/master/sprites/pokemon/8.png\n",
            "name:blastoise,hp: 79 attack:83, defense:100, special_attack:85, special_defense:105, speed:78, url:https://raw.githubusercontent.com/PokeAPI/sprites/master/sprites/pokemon/9.png\n",
            "name:caterpie,hp: 45 attack:30, defense:35, special_attack:20, special_defense:20, speed:45, url:https://raw.githubusercontent.com/PokeAPI/sprites/master/sprites/pokemon/10.png\n",
            "name:metapod,hp: 50 attack:20, defense:55, special_attack:25, special_defense:25, speed:30, url:https://raw.githubusercontent.com/PokeAPI/sprites/master/sprites/pokemon/11.png\n",
            "name:butterfree,hp: 60 attack:45, defense:50, special_attack:90, special_defense:80, speed:70, url:https://raw.githubusercontent.com/PokeAPI/sprites/master/sprites/pokemon/12.png\n",
            "name:weedle,hp: 40 attack:35, defense:30, special_attack:20, special_defense:20, speed:50, url:https://raw.githubusercontent.com/PokeAPI/sprites/master/sprites/pokemon/13.png\n",
            "name:kakuna,hp: 45 attack:25, defense:50, special_attack:25, special_defense:25, speed:35, url:https://raw.githubusercontent.com/PokeAPI/sprites/master/sprites/pokemon/14.png\n",
            "name:beedrill,hp: 65 attack:90, defense:40, special_attack:45, special_defense:80, speed:75, url:https://raw.githubusercontent.com/PokeAPI/sprites/master/sprites/pokemon/15.png\n",
            "name:pidgey,hp: 40 attack:45, defense:40, special_attack:35, special_defense:35, speed:56, url:https://raw.githubusercontent.com/PokeAPI/sprites/master/sprites/pokemon/16.png\n",
            "name:pidgeotto,hp: 63 attack:60, defense:55, special_attack:50, special_defense:50, speed:71, url:https://raw.githubusercontent.com/PokeAPI/sprites/master/sprites/pokemon/17.png\n",
            "name:pidgeot,hp: 83 attack:80, defense:75, special_attack:70, special_defense:70, speed:101, url:https://raw.githubusercontent.com/PokeAPI/sprites/master/sprites/pokemon/18.png\n",
            "name:rattata,hp: 30 attack:56, defense:35, special_attack:25, special_defense:35, speed:72, url:https://raw.githubusercontent.com/PokeAPI/sprites/master/sprites/pokemon/19.png\n",
            "name:raticate,hp: 55 attack:81, defense:60, special_attack:50, special_defense:70, speed:97, url:https://raw.githubusercontent.com/PokeAPI/sprites/master/sprites/pokemon/20.png\n",
            "name:spearow,hp: 40 attack:60, defense:30, special_attack:31, special_defense:31, speed:70, url:https://raw.githubusercontent.com/PokeAPI/sprites/master/sprites/pokemon/21.png\n",
            "name:fearow,hp: 65 attack:90, defense:65, special_attack:61, special_defense:61, speed:100, url:https://raw.githubusercontent.com/PokeAPI/sprites/master/sprites/pokemon/22.png\n",
            "name:ekans,hp: 35 attack:60, defense:44, special_attack:40, special_defense:54, speed:55, url:https://raw.githubusercontent.com/PokeAPI/sprites/master/sprites/pokemon/23.png\n",
            "name:arbok,hp: 60 attack:95, defense:69, special_attack:65, special_defense:79, speed:80, url:https://raw.githubusercontent.com/PokeAPI/sprites/master/sprites/pokemon/24.png\n",
            "name:pikachu,hp: 35 attack:55, defense:40, special_attack:50, special_defense:50, speed:90, url:https://raw.githubusercontent.com/PokeAPI/sprites/master/sprites/pokemon/25.png\n",
            "name:raichu,hp: 60 attack:90, defense:55, special_attack:90, special_defense:80, speed:110, url:https://raw.githubusercontent.com/PokeAPI/sprites/master/sprites/pokemon/26.png\n",
            "name:sandshrew,hp: 50 attack:75, defense:85, special_attack:20, special_defense:30, speed:40, url:https://raw.githubusercontent.com/PokeAPI/sprites/master/sprites/pokemon/27.png\n",
            "name:sandslash,hp: 75 attack:100, defense:110, special_attack:45, special_defense:55, speed:65, url:https://raw.githubusercontent.com/PokeAPI/sprites/master/sprites/pokemon/28.png\n",
            "name:nidoran-f,hp: 55 attack:47, defense:52, special_attack:40, special_defense:40, speed:41, url:https://raw.githubusercontent.com/PokeAPI/sprites/master/sprites/pokemon/29.png\n",
            "name:nidorina,hp: 70 attack:62, defense:67, special_attack:55, special_defense:55, speed:56, url:https://raw.githubusercontent.com/PokeAPI/sprites/master/sprites/pokemon/30.png\n",
            "name:nidoqueen,hp: 90 attack:92, defense:87, special_attack:75, special_defense:85, speed:76, url:https://raw.githubusercontent.com/PokeAPI/sprites/master/sprites/pokemon/31.png\n",
            "name:nidoran-m,hp: 46 attack:57, defense:40, special_attack:40, special_defense:40, speed:50, url:https://raw.githubusercontent.com/PokeAPI/sprites/master/sprites/pokemon/32.png\n",
            "name:nidorino,hp: 61 attack:72, defense:57, special_attack:55, special_defense:55, speed:65, url:https://raw.githubusercontent.com/PokeAPI/sprites/master/sprites/pokemon/33.png\n",
            "name:nidoking,hp: 81 attack:102, defense:77, special_attack:85, special_defense:75, speed:85, url:https://raw.githubusercontent.com/PokeAPI/sprites/master/sprites/pokemon/34.png\n",
            "name:clefairy,hp: 70 attack:45, defense:48, special_attack:60, special_defense:65, speed:35, url:https://raw.githubusercontent.com/PokeAPI/sprites/master/sprites/pokemon/35.png\n",
            "name:clefable,hp: 95 attack:70, defense:73, special_attack:95, special_defense:90, speed:60, url:https://raw.githubusercontent.com/PokeAPI/sprites/master/sprites/pokemon/36.png\n",
            "name:vulpix,hp: 38 attack:41, defense:40, special_attack:50, special_defense:65, speed:65, url:https://raw.githubusercontent.com/PokeAPI/sprites/master/sprites/pokemon/37.png\n",
            "name:ninetales,hp: 73 attack:76, defense:75, special_attack:81, special_defense:100, speed:100, url:https://raw.githubusercontent.com/PokeAPI/sprites/master/sprites/pokemon/38.png\n",
            "name:jigglypuff,hp: 115 attack:45, defense:20, special_attack:45, special_defense:25, speed:20, url:https://raw.githubusercontent.com/PokeAPI/sprites/master/sprites/pokemon/39.png\n",
            "name:wigglytuff,hp: 140 attack:70, defense:45, special_attack:85, special_defense:50, speed:45, url:https://raw.githubusercontent.com/PokeAPI/sprites/master/sprites/pokemon/40.png\n",
            "name:zubat,hp: 40 attack:45, defense:35, special_attack:30, special_defense:40, speed:55, url:https://raw.githubusercontent.com/PokeAPI/sprites/master/sprites/pokemon/41.png\n",
            "name:golbat,hp: 75 attack:80, defense:70, special_attack:65, special_defense:75, speed:90, url:https://raw.githubusercontent.com/PokeAPI/sprites/master/sprites/pokemon/42.png\n",
            "name:oddish,hp: 45 attack:50, defense:55, special_attack:75, special_defense:65, speed:30, url:https://raw.githubusercontent.com/PokeAPI/sprites/master/sprites/pokemon/43.png\n",
            "name:gloom,hp: 60 attack:65, defense:70, special_attack:85, special_defense:75, speed:40, url:https://raw.githubusercontent.com/PokeAPI/sprites/master/sprites/pokemon/44.png\n",
            "name:vileplume,hp: 75 attack:80, defense:85, special_attack:110, special_defense:90, speed:50, url:https://raw.githubusercontent.com/PokeAPI/sprites/master/sprites/pokemon/45.png\n",
            "name:paras,hp: 35 attack:70, defense:55, special_attack:45, special_defense:55, speed:25, url:https://raw.githubusercontent.com/PokeAPI/sprites/master/sprites/pokemon/46.png\n",
            "name:parasect,hp: 60 attack:95, defense:80, special_attack:60, special_defense:80, speed:30, url:https://raw.githubusercontent.com/PokeAPI/sprites/master/sprites/pokemon/47.png\n",
            "name:venonat,hp: 60 attack:55, defense:50, special_attack:40, special_defense:55, speed:45, url:https://raw.githubusercontent.com/PokeAPI/sprites/master/sprites/pokemon/48.png\n",
            "name:venomoth,hp: 70 attack:65, defense:60, special_attack:90, special_defense:75, speed:90, url:https://raw.githubusercontent.com/PokeAPI/sprites/master/sprites/pokemon/49.png\n",
            "name:diglett,hp: 10 attack:55, defense:25, special_attack:35, special_defense:45, speed:95, url:https://raw.githubusercontent.com/PokeAPI/sprites/master/sprites/pokemon/50.png\n",
            "name:dugtrio,hp: 35 attack:100, defense:50, special_attack:50, special_defense:70, speed:120, url:https://raw.githubusercontent.com/PokeAPI/sprites/master/sprites/pokemon/51.png\n",
            "name:meowth,hp: 40 attack:45, defense:35, special_attack:40, special_defense:40, speed:90, url:https://raw.githubusercontent.com/PokeAPI/sprites/master/sprites/pokemon/52.png\n",
            "name:persian,hp: 65 attack:70, defense:60, special_attack:65, special_defense:65, speed:115, url:https://raw.githubusercontent.com/PokeAPI/sprites/master/sprites/pokemon/53.png\n",
            "name:psyduck,hp: 50 attack:52, defense:48, special_attack:65, special_defense:50, speed:55, url:https://raw.githubusercontent.com/PokeAPI/sprites/master/sprites/pokemon/54.png\n",
            "name:golduck,hp: 80 attack:82, defense:78, special_attack:95, special_defense:80, speed:85, url:https://raw.githubusercontent.com/PokeAPI/sprites/master/sprites/pokemon/55.png\n",
            "name:mankey,hp: 40 attack:80, defense:35, special_attack:35, special_defense:45, speed:70, url:https://raw.githubusercontent.com/PokeAPI/sprites/master/sprites/pokemon/56.png\n",
            "name:primeape,hp: 65 attack:105, defense:60, special_attack:60, special_defense:70, speed:95, url:https://raw.githubusercontent.com/PokeAPI/sprites/master/sprites/pokemon/57.png\n",
            "name:growlithe,hp: 55 attack:70, defense:45, special_attack:70, special_defense:50, speed:60, url:https://raw.githubusercontent.com/PokeAPI/sprites/master/sprites/pokemon/58.png\n",
            "name:arcanine,hp: 90 attack:110, defense:80, special_attack:100, special_defense:80, speed:95, url:https://raw.githubusercontent.com/PokeAPI/sprites/master/sprites/pokemon/59.png\n",
            "name:poliwag,hp: 40 attack:50, defense:40, special_attack:40, special_defense:40, speed:90, url:https://raw.githubusercontent.com/PokeAPI/sprites/master/sprites/pokemon/60.png\n",
            "name:poliwhirl,hp: 65 attack:65, defense:65, special_attack:50, special_defense:50, speed:90, url:https://raw.githubusercontent.com/PokeAPI/sprites/master/sprites/pokemon/61.png\n",
            "name:poliwrath,hp: 90 attack:95, defense:95, special_attack:70, special_defense:90, speed:70, url:https://raw.githubusercontent.com/PokeAPI/sprites/master/sprites/pokemon/62.png\n",
            "name:abra,hp: 25 attack:20, defense:15, special_attack:105, special_defense:55, speed:90, url:https://raw.githubusercontent.com/PokeAPI/sprites/master/sprites/pokemon/63.png\n",
            "name:kadabra,hp: 40 attack:35, defense:30, special_attack:120, special_defense:70, speed:105, url:https://raw.githubusercontent.com/PokeAPI/sprites/master/sprites/pokemon/64.png\n",
            "name:alakazam,hp: 55 attack:50, defense:45, special_attack:135, special_defense:95, speed:120, url:https://raw.githubusercontent.com/PokeAPI/sprites/master/sprites/pokemon/65.png\n",
            "name:machop,hp: 70 attack:80, defense:50, special_attack:35, special_defense:35, speed:35, url:https://raw.githubusercontent.com/PokeAPI/sprites/master/sprites/pokemon/66.png\n",
            "name:machoke,hp: 80 attack:100, defense:70, special_attack:50, special_defense:60, speed:45, url:https://raw.githubusercontent.com/PokeAPI/sprites/master/sprites/pokemon/67.png\n",
            "name:machamp,hp: 90 attack:130, defense:80, special_attack:65, special_defense:85, speed:55, url:https://raw.githubusercontent.com/PokeAPI/sprites/master/sprites/pokemon/68.png\n",
            "name:bellsprout,hp: 50 attack:75, defense:35, special_attack:70, special_defense:30, speed:40, url:https://raw.githubusercontent.com/PokeAPI/sprites/master/sprites/pokemon/69.png\n",
            "name:weepinbell,hp: 65 attack:90, defense:50, special_attack:85, special_defense:45, speed:55, url:https://raw.githubusercontent.com/PokeAPI/sprites/master/sprites/pokemon/70.png\n",
            "name:victreebel,hp: 80 attack:105, defense:65, special_attack:100, special_defense:70, speed:70, url:https://raw.githubusercontent.com/PokeAPI/sprites/master/sprites/pokemon/71.png\n",
            "name:tentacool,hp: 40 attack:40, defense:35, special_attack:50, special_defense:100, speed:70, url:https://raw.githubusercontent.com/PokeAPI/sprites/master/sprites/pokemon/72.png\n",
            "name:tentacruel,hp: 80 attack:70, defense:65, special_attack:80, special_defense:120, speed:100, url:https://raw.githubusercontent.com/PokeAPI/sprites/master/sprites/pokemon/73.png\n",
            "name:geodude,hp: 40 attack:80, defense:100, special_attack:30, special_defense:30, speed:20, url:https://raw.githubusercontent.com/PokeAPI/sprites/master/sprites/pokemon/74.png\n",
            "name:graveler,hp: 55 attack:95, defense:115, special_attack:45, special_defense:45, speed:35, url:https://raw.githubusercontent.com/PokeAPI/sprites/master/sprites/pokemon/75.png\n",
            "name:golem,hp: 80 attack:120, defense:130, special_attack:55, special_defense:65, speed:45, url:https://raw.githubusercontent.com/PokeAPI/sprites/master/sprites/pokemon/76.png\n",
            "name:ponyta,hp: 50 attack:85, defense:55, special_attack:65, special_defense:65, speed:90, url:https://raw.githubusercontent.com/PokeAPI/sprites/master/sprites/pokemon/77.png\n",
            "name:rapidash,hp: 65 attack:100, defense:70, special_attack:80, special_defense:80, speed:105, url:https://raw.githubusercontent.com/PokeAPI/sprites/master/sprites/pokemon/78.png\n",
            "name:slowpoke,hp: 90 attack:65, defense:65, special_attack:40, special_defense:40, speed:15, url:https://raw.githubusercontent.com/PokeAPI/sprites/master/sprites/pokemon/79.png\n",
            "name:slowbro,hp: 95 attack:75, defense:110, special_attack:100, special_defense:80, speed:30, url:https://raw.githubusercontent.com/PokeAPI/sprites/master/sprites/pokemon/80.png\n",
            "name:magnemite,hp: 25 attack:35, defense:70, special_attack:95, special_defense:55, speed:45, url:https://raw.githubusercontent.com/PokeAPI/sprites/master/sprites/pokemon/81.png\n",
            "name:magneton,hp: 50 attack:60, defense:95, special_attack:120, special_defense:70, speed:70, url:https://raw.githubusercontent.com/PokeAPI/sprites/master/sprites/pokemon/82.png\n",
            "name:farfetchd,hp: 52 attack:90, defense:55, special_attack:58, special_defense:62, speed:60, url:https://raw.githubusercontent.com/PokeAPI/sprites/master/sprites/pokemon/83.png\n",
            "name:doduo,hp: 35 attack:85, defense:45, special_attack:35, special_defense:35, speed:75, url:https://raw.githubusercontent.com/PokeAPI/sprites/master/sprites/pokemon/84.png\n",
            "name:dodrio,hp: 60 attack:110, defense:70, special_attack:60, special_defense:60, speed:110, url:https://raw.githubusercontent.com/PokeAPI/sprites/master/sprites/pokemon/85.png\n",
            "name:seel,hp: 65 attack:45, defense:55, special_attack:45, special_defense:70, speed:45, url:https://raw.githubusercontent.com/PokeAPI/sprites/master/sprites/pokemon/86.png\n",
            "name:dewgong,hp: 90 attack:70, defense:80, special_attack:70, special_defense:95, speed:70, url:https://raw.githubusercontent.com/PokeAPI/sprites/master/sprites/pokemon/87.png\n",
            "name:grimer,hp: 80 attack:80, defense:50, special_attack:40, special_defense:50, speed:25, url:https://raw.githubusercontent.com/PokeAPI/sprites/master/sprites/pokemon/88.png\n",
            "name:muk,hp: 105 attack:105, defense:75, special_attack:65, special_defense:100, speed:50, url:https://raw.githubusercontent.com/PokeAPI/sprites/master/sprites/pokemon/89.png\n",
            "name:shellder,hp: 30 attack:65, defense:100, special_attack:45, special_defense:25, speed:40, url:https://raw.githubusercontent.com/PokeAPI/sprites/master/sprites/pokemon/90.png\n",
            "name:cloyster,hp: 50 attack:95, defense:180, special_attack:85, special_defense:45, speed:70, url:https://raw.githubusercontent.com/PokeAPI/sprites/master/sprites/pokemon/91.png\n",
            "name:gastly,hp: 30 attack:35, defense:30, special_attack:100, special_defense:35, speed:80, url:https://raw.githubusercontent.com/PokeAPI/sprites/master/sprites/pokemon/92.png\n",
            "name:haunter,hp: 45 attack:50, defense:45, special_attack:115, special_defense:55, speed:95, url:https://raw.githubusercontent.com/PokeAPI/sprites/master/sprites/pokemon/93.png\n",
            "name:gengar,hp: 60 attack:65, defense:60, special_attack:130, special_defense:75, speed:110, url:https://raw.githubusercontent.com/PokeAPI/sprites/master/sprites/pokemon/94.png\n",
            "name:onix,hp: 35 attack:45, defense:160, special_attack:30, special_defense:45, speed:70, url:https://raw.githubusercontent.com/PokeAPI/sprites/master/sprites/pokemon/95.png\n",
            "name:drowzee,hp: 60 attack:48, defense:45, special_attack:43, special_defense:90, speed:42, url:https://raw.githubusercontent.com/PokeAPI/sprites/master/sprites/pokemon/96.png\n",
            "name:hypno,hp: 85 attack:73, defense:70, special_attack:73, special_defense:115, speed:67, url:https://raw.githubusercontent.com/PokeAPI/sprites/master/sprites/pokemon/97.png\n",
            "name:krabby,hp: 30 attack:105, defense:90, special_attack:25, special_defense:25, speed:50, url:https://raw.githubusercontent.com/PokeAPI/sprites/master/sprites/pokemon/98.png\n",
            "name:kingler,hp: 55 attack:130, defense:115, special_attack:50, special_defense:50, speed:75, url:https://raw.githubusercontent.com/PokeAPI/sprites/master/sprites/pokemon/99.png\n",
            "name:voltorb,hp: 40 attack:30, defense:50, special_attack:55, special_defense:55, speed:100, url:https://raw.githubusercontent.com/PokeAPI/sprites/master/sprites/pokemon/100.png\n",
            "name:electrode,hp: 60 attack:50, defense:70, special_attack:80, special_defense:80, speed:150, url:https://raw.githubusercontent.com/PokeAPI/sprites/master/sprites/pokemon/101.png\n",
            "name:exeggcute,hp: 60 attack:40, defense:80, special_attack:60, special_defense:45, speed:40, url:https://raw.githubusercontent.com/PokeAPI/sprites/master/sprites/pokemon/102.png\n",
            "name:exeggutor,hp: 95 attack:95, defense:85, special_attack:125, special_defense:75, speed:55, url:https://raw.githubusercontent.com/PokeAPI/sprites/master/sprites/pokemon/103.png\n",
            "name:cubone,hp: 50 attack:50, defense:95, special_attack:40, special_defense:50, speed:35, url:https://raw.githubusercontent.com/PokeAPI/sprites/master/sprites/pokemon/104.png\n",
            "name:marowak,hp: 60 attack:80, defense:110, special_attack:50, special_defense:80, speed:45, url:https://raw.githubusercontent.com/PokeAPI/sprites/master/sprites/pokemon/105.png\n",
            "name:hitmonlee,hp: 50 attack:120, defense:53, special_attack:35, special_defense:110, speed:87, url:https://raw.githubusercontent.com/PokeAPI/sprites/master/sprites/pokemon/106.png\n",
            "name:hitmonchan,hp: 50 attack:105, defense:79, special_attack:35, special_defense:110, speed:76, url:https://raw.githubusercontent.com/PokeAPI/sprites/master/sprites/pokemon/107.png\n",
            "name:lickitung,hp: 90 attack:55, defense:75, special_attack:60, special_defense:75, speed:30, url:https://raw.githubusercontent.com/PokeAPI/sprites/master/sprites/pokemon/108.png\n",
            "name:koffing,hp: 40 attack:65, defense:95, special_attack:60, special_defense:45, speed:35, url:https://raw.githubusercontent.com/PokeAPI/sprites/master/sprites/pokemon/109.png\n",
            "name:weezing,hp: 65 attack:90, defense:120, special_attack:85, special_defense:70, speed:60, url:https://raw.githubusercontent.com/PokeAPI/sprites/master/sprites/pokemon/110.png\n",
            "name:rhyhorn,hp: 80 attack:85, defense:95, special_attack:30, special_defense:30, speed:25, url:https://raw.githubusercontent.com/PokeAPI/sprites/master/sprites/pokemon/111.png\n",
            "name:rhydon,hp: 105 attack:130, defense:120, special_attack:45, special_defense:45, speed:40, url:https://raw.githubusercontent.com/PokeAPI/sprites/master/sprites/pokemon/112.png\n",
            "name:chansey,hp: 250 attack:5, defense:5, special_attack:35, special_defense:105, speed:50, url:https://raw.githubusercontent.com/PokeAPI/sprites/master/sprites/pokemon/113.png\n",
            "name:tangela,hp: 65 attack:55, defense:115, special_attack:100, special_defense:40, speed:60, url:https://raw.githubusercontent.com/PokeAPI/sprites/master/sprites/pokemon/114.png\n",
            "name:kangaskhan,hp: 105 attack:95, defense:80, special_attack:40, special_defense:80, speed:90, url:https://raw.githubusercontent.com/PokeAPI/sprites/master/sprites/pokemon/115.png\n",
            "name:horsea,hp: 30 attack:40, defense:70, special_attack:70, special_defense:25, speed:60, url:https://raw.githubusercontent.com/PokeAPI/sprites/master/sprites/pokemon/116.png\n",
            "name:seadra,hp: 55 attack:65, defense:95, special_attack:95, special_defense:45, speed:85, url:https://raw.githubusercontent.com/PokeAPI/sprites/master/sprites/pokemon/117.png\n",
            "name:goldeen,hp: 45 attack:67, defense:60, special_attack:35, special_defense:50, speed:63, url:https://raw.githubusercontent.com/PokeAPI/sprites/master/sprites/pokemon/118.png\n",
            "name:seaking,hp: 80 attack:92, defense:65, special_attack:65, special_defense:80, speed:68, url:https://raw.githubusercontent.com/PokeAPI/sprites/master/sprites/pokemon/119.png\n",
            "name:staryu,hp: 30 attack:45, defense:55, special_attack:70, special_defense:55, speed:85, url:https://raw.githubusercontent.com/PokeAPI/sprites/master/sprites/pokemon/120.png\n",
            "name:starmie,hp: 60 attack:75, defense:85, special_attack:100, special_defense:85, speed:115, url:https://raw.githubusercontent.com/PokeAPI/sprites/master/sprites/pokemon/121.png\n",
            "name:mr-mime,hp: 40 attack:45, defense:65, special_attack:100, special_defense:120, speed:90, url:https://raw.githubusercontent.com/PokeAPI/sprites/master/sprites/pokemon/122.png\n",
            "name:scyther,hp: 70 attack:110, defense:80, special_attack:55, special_defense:80, speed:105, url:https://raw.githubusercontent.com/PokeAPI/sprites/master/sprites/pokemon/123.png\n",
            "name:jynx,hp: 65 attack:50, defense:35, special_attack:115, special_defense:95, speed:95, url:https://raw.githubusercontent.com/PokeAPI/sprites/master/sprites/pokemon/124.png\n",
            "name:electabuzz,hp: 65 attack:83, defense:57, special_attack:95, special_defense:85, speed:105, url:https://raw.githubusercontent.com/PokeAPI/sprites/master/sprites/pokemon/125.png\n",
            "name:magmar,hp: 65 attack:95, defense:57, special_attack:100, special_defense:85, speed:93, url:https://raw.githubusercontent.com/PokeAPI/sprites/master/sprites/pokemon/126.png\n",
            "name:pinsir,hp: 65 attack:125, defense:100, special_attack:55, special_defense:70, speed:85, url:https://raw.githubusercontent.com/PokeAPI/sprites/master/sprites/pokemon/127.png\n",
            "name:tauros,hp: 75 attack:100, defense:95, special_attack:40, special_defense:70, speed:110, url:https://raw.githubusercontent.com/PokeAPI/sprites/master/sprites/pokemon/128.png\n",
            "name:magikarp,hp: 20 attack:10, defense:55, special_attack:15, special_defense:20, speed:80, url:https://raw.githubusercontent.com/PokeAPI/sprites/master/sprites/pokemon/129.png\n",
            "name:gyarados,hp: 95 attack:125, defense:79, special_attack:60, special_defense:100, speed:81, url:https://raw.githubusercontent.com/PokeAPI/sprites/master/sprites/pokemon/130.png\n",
            "name:lapras,hp: 130 attack:85, defense:80, special_attack:85, special_defense:95, speed:60, url:https://raw.githubusercontent.com/PokeAPI/sprites/master/sprites/pokemon/131.png\n",
            "name:ditto,hp: 48 attack:48, defense:48, special_attack:48, special_defense:48, speed:48, url:https://raw.githubusercontent.com/PokeAPI/sprites/master/sprites/pokemon/132.png\n",
            "name:eevee,hp: 55 attack:55, defense:50, special_attack:45, special_defense:65, speed:55, url:https://raw.githubusercontent.com/PokeAPI/sprites/master/sprites/pokemon/133.png\n",
            "name:vaporeon,hp: 130 attack:65, defense:60, special_attack:110, special_defense:95, speed:65, url:https://raw.githubusercontent.com/PokeAPI/sprites/master/sprites/pokemon/134.png\n",
            "name:jolteon,hp: 65 attack:65, defense:60, special_attack:110, special_defense:95, speed:130, url:https://raw.githubusercontent.com/PokeAPI/sprites/master/sprites/pokemon/135.png\n",
            "name:flareon,hp: 65 attack:130, defense:60, special_attack:95, special_defense:110, speed:65, url:https://raw.githubusercontent.com/PokeAPI/sprites/master/sprites/pokemon/136.png\n",
            "name:porygon,hp: 65 attack:60, defense:70, special_attack:85, special_defense:75, speed:40, url:https://raw.githubusercontent.com/PokeAPI/sprites/master/sprites/pokemon/137.png\n",
            "name:omanyte,hp: 35 attack:40, defense:100, special_attack:90, special_defense:55, speed:35, url:https://raw.githubusercontent.com/PokeAPI/sprites/master/sprites/pokemon/138.png\n",
            "name:omastar,hp: 70 attack:60, defense:125, special_attack:115, special_defense:70, speed:55, url:https://raw.githubusercontent.com/PokeAPI/sprites/master/sprites/pokemon/139.png\n",
            "name:kabuto,hp: 30 attack:80, defense:90, special_attack:55, special_defense:45, speed:55, url:https://raw.githubusercontent.com/PokeAPI/sprites/master/sprites/pokemon/140.png\n",
            "name:kabutops,hp: 60 attack:115, defense:105, special_attack:65, special_defense:70, speed:80, url:https://raw.githubusercontent.com/PokeAPI/sprites/master/sprites/pokemon/141.png\n",
            "name:aerodactyl,hp: 80 attack:105, defense:65, special_attack:60, special_defense:75, speed:130, url:https://raw.githubusercontent.com/PokeAPI/sprites/master/sprites/pokemon/142.png\n",
            "name:snorlax,hp: 160 attack:110, defense:65, special_attack:65, special_defense:110, speed:30, url:https://raw.githubusercontent.com/PokeAPI/sprites/master/sprites/pokemon/143.png\n",
            "name:articuno,hp: 90 attack:85, defense:100, special_attack:95, special_defense:125, speed:85, url:https://raw.githubusercontent.com/PokeAPI/sprites/master/sprites/pokemon/144.png\n",
            "name:zapdos,hp: 90 attack:90, defense:85, special_attack:125, special_defense:90, speed:100, url:https://raw.githubusercontent.com/PokeAPI/sprites/master/sprites/pokemon/145.png\n",
            "name:moltres,hp: 90 attack:100, defense:90, special_attack:125, special_defense:85, speed:90, url:https://raw.githubusercontent.com/PokeAPI/sprites/master/sprites/pokemon/146.png\n",
            "name:dratini,hp: 41 attack:64, defense:45, special_attack:50, special_defense:50, speed:50, url:https://raw.githubusercontent.com/PokeAPI/sprites/master/sprites/pokemon/147.png\n",
            "name:dragonair,hp: 61 attack:84, defense:65, special_attack:70, special_defense:70, speed:70, url:https://raw.githubusercontent.com/PokeAPI/sprites/master/sprites/pokemon/148.png\n",
            "name:dragonite,hp: 91 attack:134, defense:95, special_attack:100, special_defense:100, speed:80, url:https://raw.githubusercontent.com/PokeAPI/sprites/master/sprites/pokemon/149.png\n",
            "name:mewtwo,hp: 106 attack:110, defense:90, special_attack:154, special_defense:90, speed:130, url:https://raw.githubusercontent.com/PokeAPI/sprites/master/sprites/pokemon/150.png\n",
            "name:mew,hp: 100 attack:100, defense:100, special_attack:100, special_defense:100, speed:100, url:https://raw.githubusercontent.com/PokeAPI/sprites/master/sprites/pokemon/151.png\n"
          ],
          "name": "stdout"
        }
      ]
    }
  ]
}